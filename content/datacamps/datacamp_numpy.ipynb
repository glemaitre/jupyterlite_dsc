{
 "cells": [
  {
   "cell_type": "markdown",
   "metadata": {},
   "source": [
    "# Datacamp: Introduction to Numpy\n",
    "\n",
    "    Alexandre Gramfort : alexandre.gramfort@inria.fr"
   ]
  },
  {
   "cell_type": "markdown",
   "metadata": {},
   "source": [
    "The main goal of this notebook is to get familiar with Python and NumPy by manipulating a famous dataset in machine learning.\n",
    "\n",
    "The data are embedded in the `scikit-learn` library.\n",
    "\n",
    "This dataset is known as digits and contains images of hand-written digits with theirs associated labels."
   ]
  },
  {
   "cell_type": "markdown",
   "metadata": {},
   "source": [
    "# I - Manipulations and visualization of the `digtits` dataset"
   ]
  },
  {
   "cell_type": "markdown",
   "metadata": {},
   "source": [
    "## Imports et intialisation"
   ]
  },
  {
   "cell_type": "code",
   "execution_count": null,
   "metadata": {},
   "outputs": [],
   "source": [
    "%matplotlib inline                      \n",
    "\n",
    "import numpy as np                      # charge un package pour le numérique\n",
    "import matplotlib.pyplot as plt         # charge un package pour les graphiques"
   ]
  },
  {
   "cell_type": "markdown",
   "metadata": {},
   "source": [
    "## Dataset description\n",
    "\n",
    "We will load the `digits` dataset available in `scikit-learn` (the import name is `sklearn`). This dataset contains images of hand-written digits."
   ]
  },
  {
   "cell_type": "code",
   "execution_count": null,
   "metadata": {},
   "outputs": [],
   "source": [
    "# Load the dataset from scikit-learn\n",
    "from sklearn.datasets import load_digits\n",
    "\n",
    "digits = load_digits()\n",
    "X, y = digits.data, digits.target"
   ]
  },
  {
   "cell_type": "code",
   "execution_count": null,
   "metadata": {},
   "outputs": [],
   "source": [
    "X"
   ]
  },
  {
   "cell_type": "code",
   "execution_count": null,
   "metadata": {},
   "outputs": [],
   "source": [
    "X.shape"
   ]
  },
  {
   "cell_type": "code",
   "execution_count": null,
   "metadata": {},
   "outputs": [],
   "source": [
    "X.ndim"
   ]
  },
  {
   "cell_type": "code",
   "execution_count": null,
   "metadata": {},
   "outputs": [],
   "source": [
    "y.shape"
   ]
  },
  {
   "cell_type": "code",
   "execution_count": null,
   "metadata": {},
   "outputs": [],
   "source": [
    "y.size"
   ]
  },
  {
   "cell_type": "code",
   "execution_count": null,
   "metadata": {},
   "outputs": [],
   "source": [
    "X.size, 1797*64"
   ]
  },
  {
   "cell_type": "code",
   "execution_count": null,
   "metadata": {},
   "outputs": [],
   "source": [
    "X[0, :].size"
   ]
  },
  {
   "cell_type": "code",
   "execution_count": null,
   "metadata": {},
   "outputs": [],
   "source": [
    "y"
   ]
  },
  {
   "cell_type": "code",
   "execution_count": null,
   "metadata": {},
   "outputs": [],
   "source": [
    "y.max(), y.min()"
   ]
  },
  {
   "cell_type": "code",
   "execution_count": null,
   "metadata": {},
   "outputs": [],
   "source": [
    "np.unique(y)"
   ]
  },
  {
   "cell_type": "code",
   "execution_count": null,
   "metadata": {},
   "outputs": [],
   "source": [
    "print(f\"Number of pixels (features):      {X.shape[1]}\")\n",
    "print(f\"Number of images (samples):       {X.shape[0]}\")\n",
    "print(f\"Number of classes:                {len(np.unique(y))}\")"
   ]
  },
  {
   "cell_type": "code",
   "execution_count": null,
   "metadata": {},
   "outputs": [],
   "source": [
    "# Choose any image (sample)\n",
    "idx_to_test = 15\n",
    "\n",
    "print(\"Show a line of the array (i.e., image):\")\n",
    "print(X[idx_to_test, :])\n",
    "print(\"Show the associted class (i.e., associated class):\")\n",
    "print(y[idx_to_test])"
   ]
  },
  {
   "cell_type": "markdown",
   "metadata": {},
   "source": [
    "<div class=\"alert alert-success\">\n",
    "    <b>EXERCISE:</b>\n",
    "     <ul>\n",
    "      <li>What is the data type of X? y?</li>\n",
    "      <li>Change `idx_to_test`. Without showing y[idx_to_test], can you recognize the number of this sample?</li>\n",
    "    </ul>\n",
    "</div>"
   ]
  },
  {
   "cell_type": "markdown",
   "metadata": {},
   "source": [
    "## Data visualization:\n",
    "\n",
    "The digitized images have a size of 8 x 8 accounting for a total of 64 pixels. They are stored into a row vector which need to be reshaped to be visualized as an image. You can use the function `numpy.reshape` to transform the 1D-array into a 2D-array of 8 x 8 values."
   ]
  },
  {
   "cell_type": "code",
   "execution_count": null,
   "metadata": {},
   "outputs": [],
   "source": [
    "# We use `imshow` to visualize the the image\n",
    "plt.imshow(np.reshape(X[0, :], (8, 8)));"
   ]
  },
  {
   "cell_type": "code",
   "execution_count": null,
   "metadata": {},
   "outputs": [],
   "source": [
    "# Use a grayscale colormap for a better visualization\n",
    "plt.imshow(np.reshape(X[idx_to_test, :], (8, 8)),\n",
    "           cmap='gray', aspect='equal', interpolation='nearest')\n",
    "plt.colorbar()\n",
    "plt.title(f\"The associated class with the image at index {idx_to_test} is {y[idx_to_test]}\")"
   ]
  },
  {
   "cell_type": "markdown",
   "metadata": {},
   "source": [
    "<div class=\"alert alert-success\">\n",
    "    <b>EXERCICE:</b>\n",
    "     <ul>\n",
    "      <li>Show an image with 1 line and 1 column over 2.</li>\n",
    "      <li>Show the previous image by removing the pixel on the border?</li>\n",
    "      <li>Show the pixel distribution using `plt.hist`).</li>\n",
    "    </ul>\n",
    "</div>"
   ]
  },
  {
   "cell_type": "code",
   "execution_count": null,
   "metadata": {},
   "outputs": [],
   "source": []
  },
  {
   "cell_type": "markdown",
   "metadata": {},
   "source": [
    "\n",
    "## Basic statistics:\n",
    "\n",
    "Pour mieux comprendre la base de données on va s'intéresser à quelques statistiques. \n",
    "On commence par calculer les moyennes et variances par classes pour chacun des chiffres. La moyenne par classe se visualise comme une image qui est une représentantion moyenne pour chaque chiffre de zéro à neuf. Idem pour la variance, ce qui permet alors de voir les parties avec les plus grandes variations entre les membres d'une même classe.\n",
    "\n",
    "To better understand the database, we will check a couple of statistics.\n",
    "We can start by looking at the mean and variances for each class digit.\n",
    "We can plot the mean and variance which should be a 8 x 8 image.\n",
    "\n",
    "* What is the representation of the mean and variance images?"
   ]
  },
  {
   "cell_type": "code",
   "execution_count": null,
   "metadata": {},
   "outputs": [],
   "source": [
    "classes_list = np.unique(y).astype(int)\n",
    "print(\"Liste des classes en présence: \", classes_list)"
   ]
  },
  {
   "cell_type": "markdown",
   "metadata": {},
   "source": [
    "<div class=\"alert alert-success\">\n",
    "    <b>EXERCICE:</b>\n",
    "     <ul>\n",
    "      <li>Calculer un représentant moyen du chiffre 0 (l'image qui en pixel i,j contient la valeur moyenne du pixel i,j parmis tous les 0)</li>\n",
    "      <li>Avec une boucle `for` calculer le représentant moyen pour chaque chiffre</li>\n",
    "      <li>Faire la même chose en remplaçant la moyenne par l'écart type</li>\n",
    "      <li>Afficher toutes les images sur une grille à l'aide de la fonction `plt.subplots`</li>\n",
    "    </ul>\n",
    "</div>\n"
   ]
  },
  {
   "cell_type": "code",
   "execution_count": null,
   "metadata": {},
   "outputs": [],
   "source": []
  },
  {
   "cell_type": "markdown",
   "metadata": {},
   "source": [
    "# II - Nearest centroids classification\n",
    "\n",
    "The aim of this exercise is to implement your own classifier based on an intuitive idea.\n",
    "For a new image, we will predict the class for which the mean digit is the closest (in the feature space).\n",
    "\n",
    "<div class=\"alert alert-success\">\n",
    "    <b>EXERCISE:</b>\n",
    "     <ul>\n",
    "      <li>Split the dataset into 2 part. We will denote the with the following variable X_train, y_train, X_test, and y_test for the training data and labels and testing data and labels, respectively.</li>\n",
    "      <li>For each class, compute the mean digit image on the training set. We will denote the resulting variable `centroids_train`.</li>\n",
    "      <li>For each sample in the testing set, compute the nearest centroids. Compute the percentage of good predictions to evaluate the performance of your classifier.</li>\n",
    "    </ul>\n",
    "</div>"
   ]
  },
  {
   "cell_type": "code",
   "execution_count": null,
   "metadata": {},
   "outputs": [],
   "source": []
  }
 ],
 "metadata": {
  "kernelspec": {
   "display_name": "Python 3",
   "language": "python",
   "name": "python3"
  },
  "language_info": {
   "codemirror_mode": {
    "name": "ipython",
    "version": 3
   },
   "file_extension": ".py",
   "mimetype": "text/x-python",
   "name": "python",
   "nbconvert_exporter": "python",
   "pygments_lexer": "ipython3",
   "version": "3.8.5"
  },
  "widgets": {
   "state": {},
   "version": "1.1.2"
  }
 },
 "nbformat": 4,
 "nbformat_minor": 1
}
